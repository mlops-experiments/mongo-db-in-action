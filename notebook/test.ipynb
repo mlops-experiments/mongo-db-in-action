{
 "cells": [
  {
   "cell_type": "code",
   "execution_count": 1,
   "id": "8929ae1c",
   "metadata": {},
   "outputs": [],
   "source": [
    "import os\n",
    "from pathlib import Path"
   ]
  },
  {
   "cell_type": "code",
   "execution_count": 2,
   "id": "7df60764",
   "metadata": {},
   "outputs": [],
   "source": [
    "project_name = \"src\""
   ]
  },
  {
   "cell_type": "code",
   "execution_count": 7,
   "id": "4766201c",
   "metadata": {},
   "outputs": [],
   "source": [
    "list_of_files = [\n",
    "\n",
    "    f\"{project_name}/__init__.py\",\n",
    "    f\"{project_name}/components/__init__.py\",\n",
    "    f\"{project_name}/components/data_ingestion.py\",  \n",
    "    f\"{project_name}/components/data_validation.py\",\n",
    "    f\"{project_name}/components/data_transformation.py\",\n",
    "    f\"{project_name}/components/model_trainer.py\",\n",
    "    f\"{project_name}/components/model_evaluation.py\",\n",
    "    f\"{project_name}/components/model_pusher.py\",\n",
    "    f\"{project_name}/configuration/__init__.py\",\n",
    "    f\"{project_name}/configuration/mongo_db_connection.py\",\n",
    "    f\"{project_name}/configuration/aws_connection.py\",\n",
    "    f\"{project_name}/cloud_storage/__init__.py\",\n",
    "    f\"{project_name}/cloud_storage/aws_storage.py\",\n",
    "    f\"{project_name}/data_access/__init__.py\",\n",
    "    f\"{project_name}/data_access/proj1_data.py\",\n",
    "    f\"{project_name}/constants/__init__.py\",\n",
    "    f\"{project_name}/entity/__init__.py\",\n",
    "    f\"{project_name}/entity/config_entity.py\",\n",
    "    f\"{project_name}/entity/artifact_entity.py\",\n",
    "    f\"{project_name}/entity/estimator.py\",\n",
    "    f\"{project_name}/entity/s3_estimator.py\",\n",
    "    f\"{project_name}/exception/__init__.py\",\n",
    "    f\"{project_name}/logger/__init__.py\",\n",
    "    f\"{project_name}/pipline/__init__.py\",\n",
    "    f\"{project_name}/pipline/training_pipeline.py\",\n",
    "    f\"{project_name}/pipline/prediction_pipeline.py\",\n",
    "    f\"{project_name}/utils/__init__.py\",\n",
    "    f\"{project_name}/utils/main_utils.py\",\n",
    "    \"app.py\",\n",
    "    \"requirements.txt\",\n",
    "    \"Dockerfile\",\n",
    "    \".dockerignore\",\n",
    "    \"demo.py\",\n",
    "    \"setup.py\",\n",
    "    \"pyproject.toml\",\n",
    "    \"config/model.yaml\",\n",
    "    \"config/schema.yaml\",\n",
    "]"
   ]
  },
  {
   "cell_type": "code",
   "execution_count": 8,
   "id": "0547e734",
   "metadata": {},
   "outputs": [
    {
     "data": {
      "text/plain": [
       "['src/__init__.py',\n",
       " 'src/components/__init__.py',\n",
       " 'src/components/data_ingestion.py',\n",
       " 'src/components/data_validation.py',\n",
       " 'src/components/data_transformation.py',\n",
       " 'src/components/model_trainer.py',\n",
       " 'src/components/model_evaluation.py',\n",
       " 'src/components/model_pusher.py',\n",
       " 'src/configuration/__init__.py',\n",
       " 'src/configuration/mongo_db_connection.py',\n",
       " 'src/configuration/aws_connection.py',\n",
       " 'src/cloud_storage/__init__.py',\n",
       " 'src/cloud_storage/aws_storage.py',\n",
       " 'src/data_access/__init__.py',\n",
       " 'src/data_access/proj1_data.py',\n",
       " 'src/constants/__init__.py',\n",
       " 'src/entity/__init__.py',\n",
       " 'src/entity/config_entity.py',\n",
       " 'src/entity/artifact_entity.py',\n",
       " 'src/entity/estimator.py',\n",
       " 'src/entity/s3_estimator.py',\n",
       " 'src/exception/__init__.py',\n",
       " 'src/logger/__init__.py',\n",
       " 'src/pipline/__init__.py',\n",
       " 'src/pipline/training_pipeline.py',\n",
       " 'src/pipline/prediction_pipeline.py',\n",
       " 'src/utils/__init__.py',\n",
       " 'src/utils/main_utils.py',\n",
       " 'app.py',\n",
       " 'requirements.txt',\n",
       " 'Dockerfile',\n",
       " '.dockerignore',\n",
       " 'demo.py',\n",
       " 'setup.py',\n",
       " 'pyproject.toml',\n",
       " 'config/model.yaml',\n",
       " 'config/schema.yaml']"
      ]
     },
     "execution_count": 8,
     "metadata": {},
     "output_type": "execute_result"
    }
   ],
   "source": [
    "list_of_files"
   ]
  },
  {
   "cell_type": "code",
   "execution_count": null,
   "id": "6761f61b",
   "metadata": {},
   "outputs": [
    {
     "data": {
      "text/plain": [
       "'src/__init__.py'"
      ]
     },
     "execution_count": 4,
     "metadata": {},
     "output_type": "execute_result"
    }
   ],
   "source": [
    "for filepath in list_of_files:\n",
    "    filepath = Path(filepath)\n",
    "    filedir, filename = os.path.split(filepath)\n",
    "    if filedir != \"\":\n",
    "        os.makedirs(filedir, exist_ok=True)\n",
    "    if (not os.path.exists(filepath)) or (os.path.getsize(filepath) == 0):\n",
    "        with open(filepath, \"w\") as f:\n",
    "            pass\n",
    "    else:\n",
    "        print(f\"file is already present at: {filepath}\")"
   ]
  },
  {
   "cell_type": "code",
   "execution_count": 21,
   "id": "8297cb5d",
   "metadata": {},
   "outputs": [
    {
     "data": {
      "text/plain": [
       "'src/components/model_trainer.py'"
      ]
     },
     "execution_count": 21,
     "metadata": {},
     "output_type": "execute_result"
    }
   ],
   "source": [
    "list_of_files[5]"
   ]
  },
  {
   "cell_type": "code",
   "execution_count": 59,
   "id": "50ed8c68",
   "metadata": {},
   "outputs": [
    {
     "name": "stdout",
     "output_type": "stream",
     "text": [
      "src/utils/__init__.py\n",
      "src/utils\n",
      "__init__.py\n",
      "True\n",
      "inside if\n"
     ]
    }
   ],
   "source": [
    "for filepath in list_of_files[-11:-10]:\n",
    "    # print(filepath)\n",
    "    filepath = Path(filepath)\n",
    "    filedir, filename = os.path.split(filepath)\n",
    "    print(filepath)\n",
    "    print(filedir)\n",
    "    print(filename)\n",
    "    if filedir != \"\":\n",
    "        os.makedirs(filedir, exist_ok=True)\n",
    "    if (not os.path.exists(filepath)) or (os.path.getsize(filepath) == 0):\n",
    "        print(os.path.exists(filepath))\n",
    "        # print(os.path.getsize(filepath))\n",
    "        print(\"inside if\")\n",
    "        with open(filepath, \"w\") as f:\n",
    "            pass\n",
    "    else:\n",
    "        print(f\"file is already present at: {filepath}\")\n",
    "\n",
    "\n"
   ]
  },
  {
   "cell_type": "code",
   "execution_count": 56,
   "id": "e4792592",
   "metadata": {},
   "outputs": [
    {
     "data": {
      "text/plain": [
       "2"
      ]
     },
     "execution_count": 56,
     "metadata": {},
     "output_type": "execute_result"
    }
   ],
   "source": [
    "os.path.getsize(filepath)"
   ]
  },
  {
   "cell_type": "code",
   "execution_count": null,
   "id": "9508a6b8",
   "metadata": {},
   "outputs": [],
   "source": []
  },
  {
   "cell_type": "code",
   "execution_count": 35,
   "id": "0de4a891",
   "metadata": {},
   "outputs": [
    {
     "data": {
      "text/plain": [
       "''"
      ]
     },
     "execution_count": 35,
     "metadata": {},
     "output_type": "execute_result"
    }
   ],
   "source": [
    "filedir"
   ]
  },
  {
   "cell_type": "code",
   "execution_count": 27,
   "id": "5636c44e",
   "metadata": {},
   "outputs": [
    {
     "data": {
      "text/plain": [
       "('src/components', 'data_transformation.py')"
      ]
     },
     "execution_count": 27,
     "metadata": {},
     "output_type": "execute_result"
    }
   ],
   "source": [
    "os.path.split(filepath)"
   ]
  },
  {
   "cell_type": "code",
   "execution_count": null,
   "id": "c54b2240",
   "metadata": {},
   "outputs": [],
   "source": [
    "import src"
   ]
  },
  {
   "cell_type": "code",
   "execution_count": null,
   "id": "e2dc16ea",
   "metadata": {},
   "outputs": [],
   "source": [
    "import src.components\n",
    "import src.components.data_ingestion\n",
    "import src.components.data_validation\n",
    "import src.components.data_transformation\n",
    "import src.components.model_trainer\n",
    "import src.components.model_evaluation\n",
    "import src.components.model_pusher"
   ]
  }
 ],
 "metadata": {
  "kernelspec": {
   "display_name": "Python 3",
   "language": "python",
   "name": "python3"
  },
  "language_info": {
   "codemirror_mode": {
    "name": "ipython",
    "version": 3
   },
   "file_extension": ".py",
   "mimetype": "text/x-python",
   "name": "python",
   "nbconvert_exporter": "python",
   "pygments_lexer": "ipython3",
   "version": "3.12.10"
  }
 },
 "nbformat": 4,
 "nbformat_minor": 5
}
